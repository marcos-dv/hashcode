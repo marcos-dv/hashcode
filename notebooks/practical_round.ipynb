{
  "cells": [
    {
      "cell_type": "markdown",
      "metadata": {
        "id": "K_tSgg3Ki75t"
      },
      "source": [
        "# AMPLPY Setup in the cloud\n",
        "\n",
        "[![Open In Colab](https://colab.research.google.com/assets/colab-badge.svg)](https://colab.research.google.com/github/ampl/amplpy/blob/master/notebooks/finance_opt_example_3_1.ipynb)\n",
        "\n",
        "[![Kaggle](https://kaggle.com/static/images/open-in-kaggle.svg)](https://kaggle.com/kernels/welcome?src=https://github.com/ampl/amplpy/blob/master/notebooks/finance_opt_example_3_1.ipynb)\n",
        "\n",
        "Documentation: http://amplpy.readthedocs.io\n",
        "\n",
        "GitHub Repository: https://github.com/ampl/amplpy\n",
        "\n",
        "PyPI Repository: https://pypi.python.org/pypi/amplpy\n",
        "\n",
        "Jupyter Notebooks: https://github.com/ampl/amplpy/tree/master/notebooks"
      ]
    },
    {
      "cell_type": "code",
      "execution_count": null,
      "metadata": {
        "id": "5F5ueIrDi751"
      },
      "outputs": [],
      "source": [
        "!pip install -q amplpy ampltools"
      ]
    },
    {
      "cell_type": "code",
      "execution_count": null,
      "metadata": {
        "id": "bRmgn-hJi756",
        "colab": {
          "base_uri": "https://localhost:8080/"
        },
        "outputId": "6745b3a1-77a9-4b86-943f-6652426e2a5e"
      },
      "outputs": [
        {
          "output_type": "stream",
          "name": "stdout",
          "text": [
            "Already installed. Skipping.\n",
            "Activating demo license.\n",
            "option version 'AMPL Version 20220119 (Linux-5.4.0-1065-azure, 64-bit)\\\n",
            "Demo license with maintenance expiring 20240131.\\\n",
            "Using license file \"/content/ampl.linux-intel64/ampl.lic\".\\\n",
            "';\n"
          ]
        }
      ],
      "source": [
        "import os\n",
        "RUNNING_IN_GOOGLE_COLAB = 'COLAB_GPU' in os.environ\n",
        "RUNNING_IN_KAGGLE = os.path.abspath(os.curdir).startswith('/kaggle/')\n",
        "RUNNING_IN_THE_CLOUD = RUNNING_IN_GOOGLE_COLAB or RUNNING_IN_KAGGLE\n",
        "\n",
        "# If you have an AMPL Cloud License or an AMPL CE license, you can use it on Google Colab and similar platforms.\n",
        "# Note: Your license UUID should never be shared. Please make sure you delete the license UUID\n",
        "# and rerun this cell before sharing the notebook with anyone.\n",
        "LICENSE_UUID = None\n",
        "# You can install individual modules from https://portal.ampl.com/dl/modules/\n",
        "MODULES = ['ampl', 'coin']\n",
        "# Set to True in order to install AMPL only once \n",
        "RUN_ONCE = True\n",
        "if RUNNING_IN_THE_CLOUD:\n",
        "    from ampltools import ampl_installer\n",
        "    ampl_dir = os.path.abspath(os.path.join(os.curdir, 'ampl.linux-intel64'))\n",
        "    ampl_installer(ampl_dir, modules=MODULES, license_uuid=LICENSE_UUID, run_once=RUN_ONCE, verbose=True)\n",
        "    os.environ['PATH'] += os.pathsep + ampl_dir\n",
        "\n",
        "# Import, instantiate an ampl object and register jupyter notebook magics\n",
        "from amplpy import AMPL, register_magics\n",
        "ampl = AMPL()\n",
        "ampl.eval('option version;')\n",
        "# Store %%ampl cells in the list _ampl_cells\n",
        "# Evaluate %%ampl_eval cells with ampl.eval()\n",
        "register_magics(store_name='_ampl_cells', ampl_object=ampl)"
      ]
    },
    {
      "cell_type": "markdown",
      "metadata": {
        "id": "NDrP71G9i75_"
      },
      "source": [
        "# Bond dedication\n",
        "\n",
        "This is the implementation using [AMPL](https://www.ampl.com) of the Example 3.1 (Bond dedication) from the book **Optimization Methods in Finance** (2nd edition) by Cornuejols, G., and Tütüncü, R.\n",
        "\n",
        "The model has been extracted from Chapter 3, titled *Linear Programming Models: Asset-Liability Management*."
      ]
    },
    {
      "cell_type": "markdown",
      "source": [
        "Problem:\n",
        "\n",
        "*Suppose a pension fund needs to cover some liabilities in the next 6 years (given cash requirements), and can invest in 10 government bonds with given cash flows and current prices. The goal is to find the least expensive portfolio of bonds whose cash flows are sufficient to cover the liabilities.*\n",
        "\n",
        "## Writing the model\n",
        "\n",
        "First, let's use AMPL to write the abstract model depending on the number of bonds, years, and other parameters from the problem. Each bond has a price and some associated cash flows.\n",
        "\n",
        "(Use %%ampl_eval to evaluate AMPL commands)"
      ],
      "metadata": {
        "id": "CPzVlzqc11HG"
      }
    },
    {
      "cell_type": "code",
      "execution_count": null,
      "metadata": {
        "id": "yF63Gxkai75_"
      },
      "outputs": [],
      "source": [
        "%%ampl_eval\n",
        "param bonds;\n",
        "param years;\n",
        "\n",
        "param price{1..bonds};\n",
        "param cash_flow{1..years, 1..bonds} default 0;\n",
        "param cash_req{1..years};"
      ]
    },
    {
      "cell_type": "markdown",
      "source": [
        "The variables in this case are\n",
        "* $x_j$: amount of bonds $j$ in the portfolio, for j = 1, 2, ..., bonds.\n",
        "* $s_t$: surplus cash in year $t$, for t = 1, 2, ..., years."
      ],
      "metadata": {
        "id": "6X5ooAzP2d6c"
      }
    },
    {
      "cell_type": "code",
      "source": [
        "%%ampl_eval\n",
        "var x{j in 1..bonds} >= 0;\n",
        "var s{t in 1..years} >= 0;"
      ],
      "metadata": {
        "id": "wRycPttW2wyq"
      },
      "execution_count": null,
      "outputs": []
    },
    {
      "cell_type": "markdown",
      "source": [
        "The objective function is to minimize the price of the bonds. "
      ],
      "metadata": {
        "id": "xroTRSCF4HwJ"
      }
    },
    {
      "cell_type": "code",
      "source": [
        "%%ampl_eval\n",
        "minimize Total_Price: sum{j in 1..bonds} price[j]*x[j];"
      ],
      "metadata": {
        "id": "_z752U5W4QHU"
      },
      "execution_count": null,
      "outputs": []
    },
    {
      "cell_type": "markdown",
      "source": [
        "Let's write the constraints for the model (liabilities should be accomplished)."
      ],
      "metadata": {
        "id": "sslkLC7v43z2"
      }
    },
    {
      "cell_type": "code",
      "source": [
        "%%ampl_eval\n",
        "subject to Liability1:\n",
        "  sum{j in 1..bonds} cash_flow[1,j]*x[j]-s[1] = cash_req[1];\n",
        "\n",
        "subject to Liabilities{i in 2..years}:\n",
        "  sum{j in 1..bonds} cash_flow[i,j]*x[j]+s[i-1]-s[i] = cash_req[i];\n"
      ],
      "metadata": {
        "id": "9i8FMRqB49Yt"
      },
      "execution_count": null,
      "outputs": []
    },
    {
      "cell_type": "markdown",
      "source": [
        "Now the model is complete.\n",
        "\n",
        "## Writing the data file\n",
        "\n",
        "In order to solve a particular instance of the problem, we could write a data file with the information related to the parameters.\n",
        "\n",
        "(Use %%writefile to create files)"
      ],
      "metadata": {
        "id": "VRqGGLo36kww"
      }
    },
    {
      "cell_type": "code",
      "execution_count": null,
      "metadata": {
        "id": "a5TgTF9Yi76B",
        "outputId": "e30e5509-4771-4803-8c3e-e7cada55de20",
        "colab": {
          "base_uri": "https://localhost:8080/"
        }
      },
      "outputs": [
        {
          "output_type": "stream",
          "name": "stdout",
          "text": [
            "Overwriting bond_dedication.dat\n"
          ]
        }
      ],
      "source": [
        "%%writefile bond_dedication.dat\n",
        "param years := 6;\n",
        "param cash_req :=\n",
        "1 100\n",
        "2 200\n",
        "3 800\n",
        "4 100\n",
        "5 800\n",
        "6 1200\n",
        ";\n",
        "\n",
        "param bonds := 10;\n",
        "param price := \n",
        "1 109\n",
        "2 94.8\n",
        "3 99.5\n",
        "4 93.1\n",
        "5 97.2\n",
        "6 92.9\n",
        "7 110\n",
        "8 104\n",
        "9 102\n",
        "10 95.2\n",
        ";\n",
        "\n",
        "param cash_flow :=\n",
        "1 1 10\n",
        "1 2 7\n",
        "1 3 8\n",
        "1 4 6\n",
        "1 5 7\n",
        "1 6 5\n",
        "1 7 10\n",
        "1 8 8\n",
        "1 9 7\n",
        "1 10 100\n",
        "2 1 10\n",
        "2 2 7\n",
        "2 3 8\n",
        "2 4 6\n",
        "2 5 7\n",
        "2 6 5\n",
        "2 7 10\n",
        "2 8 8\n",
        "2 9 107\n",
        "3 1 10\n",
        "3 2 7\n",
        "3 3 8\n",
        "3 4 6\n",
        "3 5 7\n",
        "3 6 5\n",
        "3 7 110\n",
        "3 8 108\n",
        "4 1 10\n",
        "4 2 7\n",
        "4 3 8\n",
        "4 4 6\n",
        "4 5 7\n",
        "4 6 105\n",
        "5 1 10\n",
        "5 2 7\n",
        "5 3 8\n",
        "5 4 106\n",
        "5 5 107\n",
        "6 1 110\n",
        "6 2 107\n",
        "6 3 108\n",
        ";\n"
      ]
    },
    {
      "cell_type": "markdown",
      "source": [
        "## Solve the problem\n",
        "\n",
        "Load the data file and pick your favourite linear solver to get the solution."
      ],
      "metadata": {
        "id": "v099o0dX9KaU"
      }
    },
    {
      "cell_type": "code",
      "execution_count": null,
      "metadata": {
        "id": "JQa0hdJHi76D",
        "outputId": "cf661599-446d-4d5e-a2e9-02e6043faba4",
        "colab": {
          "base_uri": "https://localhost:8080/"
        }
      },
      "outputs": [
        {
          "output_type": "stream",
          "name": "stdout",
          "text": [
            "CBC 2.10.5: \b\b\b\b\b\b\b\b\b\b\b\bCBC 2.10.5 optimal, objective 2305.691648\n",
            "8 iterations\n"
          ]
        }
      ],
      "source": [
        "%%ampl_eval\n",
        "data bond_dedication.dat;\n",
        "\n",
        "option solver cbc;\n",
        "\n",
        "solve;"
      ]
    },
    {
      "cell_type": "markdown",
      "source": [
        "Print the solution."
      ],
      "metadata": {
        "id": "EsFMuPytAE0n"
      }
    },
    {
      "cell_type": "code",
      "source": [
        "%%ampl_eval\n",
        "display x, s, Total_Price;"
      ],
      "metadata": {
        "colab": {
          "base_uri": "https://localhost:8080/"
        },
        "id": "J_h0xjzn-XlH",
        "outputId": "693271e9-b312-4670-b7a2-6203b6e5fc06"
      },
      "execution_count": null,
      "outputs": [
        {
          "output_type": "stream",
          "name": "stdout",
          "text": [
            ":       x          s       :=\n",
            "1     0         66.3772\n",
            "2    11.215     32.7544\n",
            "3     0          0\n",
            "4     6.63385   18.3077\n",
            "5     0          0\n",
            "6     0          0\n",
            "7     0            .\n",
            "8     6.00868      .\n",
            "9     0            .\n",
            "10    0            .\n",
            ";\n",
            "\n",
            "Total_Price = 2305.69\n",
            "\n"
          ]
        }
      ]
    },
    {
      "cell_type": "markdown",
      "source": [
        "## Shadow prices and interest rates\n",
        "\n",
        "We can check the shadow prices from the previous constraints to find the term structure of interest rates. "
      ],
      "metadata": {
        "id": "9l0piaVJAIiK"
      }
    },
    {
      "cell_type": "code",
      "source": [
        "%%ampl_eval\n",
        "display Liability1, Liabilities;"
      ],
      "metadata": {
        "colab": {
          "base_uri": "https://localhost:8080/"
        },
        "id": "KlwGkra7AWrl",
        "outputId": "32f40f46-cae7-4f0f-8dea-2990f87eaa32"
      },
      "execution_count": null,
      "outputs": [
        {
          "output_type": "stream",
          "name": "stdout",
          "text": [
            "Liability1 = 0.83871\n",
            "\n",
            "Liabilities [*] :=\n",
            "2  0.83871\n",
            "3  0.83871\n",
            "4  0.696457\n",
            "5  0.696457\n",
            "6  0.630249\n",
            ";\n",
            "\n"
          ]
        }
      ]
    },
    {
      "cell_type": "markdown",
      "source": [
        "To extract this values to compute the term structure of interest rates:\n",
        "$$r_t = \\frac{1}{(\\lambda_t)^{1/t}}-1$$"
      ],
      "metadata": {
        "id": "G-89NH_PFOKX"
      }
    },
    {
      "cell_type": "code",
      "source": [
        "dual_values = {}\n",
        "rate = {}\n",
        "# Get dual values from constraints\n",
        "dual_values[1] = ampl.get_constraint(\"Liability1\").dual()\n",
        "# Elements from a vector of constraints can be accesed by [] operator\n",
        "for t in range (2, 7):\n",
        "  dual_values[t] = ampl.get_constraint(\"Liabilities\")[t].dual()\n",
        "# Compute rates\n",
        "for t in range (1, 7):\n",
        "  rate[t] = 1/(dual_values[t])**(1/t)-1\n",
        "  print(\"Rate\", t, \"=\", rate[t])"
      ],
      "metadata": {
        "colab": {
          "base_uri": "https://localhost:8080/"
        },
        "id": "IJ_5vg0-BY4n",
        "outputId": "f9cfb700-55da-49b8-c4d7-acec03618f3a"
      },
      "execution_count": null,
      "outputs": [
        {
          "output_type": "stream",
          "name": "stdout",
          "text": [
            "Rate 1 = 0.1923076923076923\n",
            "Rate 2 = 0.09192842819833746\n",
            "Rate 3 = 0.06038306207109678\n",
            "Rate 4 = 0.09465273090416892\n",
            "Rate 5 = 0.0750312573843761\n",
            "Rate 6 = 0.07997719481718946\n"
          ]
        }
      ]
    }
  ],
  "metadata": {
    "kernelspec": {
      "display_name": "Python 3 (ipykernel)",
      "language": "python",
      "name": "python3"
    },
    "language_info": {
      "codemirror_mode": {
        "name": "ipython",
        "version": 3
      },
      "file_extension": ".py",
      "mimetype": "text/x-python",
      "name": "python",
      "nbconvert_exporter": "python",
      "pygments_lexer": "ipython3",
      "version": "3.9.8"
    },
    "colab": {
      "name": "Finance-Opt-Example-3-1.ipynb",
      "provenance": [],
      "collapsed_sections": []
    }
  },
  "nbformat": 4,
  "nbformat_minor": 0
}